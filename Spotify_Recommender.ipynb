{
 "cells": [
  {
   "cell_type": "markdown",
   "metadata": {
    "id": "grXszmlPWj7j"
   },
   "source": [
    "# Spotify Recommender System\n",
    "\n",
    "Dataset: <https://www.kaggle.com/datasets/rodolfofigueroa/spotify-12m-songs>\n",
    "\n",
    "You might want to subset this dataset to something like 100k rows right off of the bat so that it's easier to work with. You can do all of your modeling with the 100k row version and then once you've got things working the way you want them to you can run the notebook once with the entire dataset. "
   ]
  },
  {
   "cell_type": "code",
   "execution_count": 15,
   "metadata": {
    "id": "J9IpcMC7WZpE"
   },
   "outputs": [],
   "source": [
    "import pandas as pd\n",
    "import numpy as np\n",
    "from sklearn.neighbors import NearestNeighbors\n",
    "from joblib import dump, load\n",
    "import pickle"
   ]
  },
  {
   "cell_type": "code",
   "execution_count": 17,
   "metadata": {},
   "outputs": [
    {
     "name": "stdout",
     "output_type": "stream",
     "text": [
      "3.9.7\n"
     ]
    }
   ],
   "source": [
    "from platform import python_version\n",
    "\n",
    "print(python_version())"
   ]
  },
  {
   "cell_type": "code",
   "execution_count": 2,
   "metadata": {
    "id": "QGPnCBIEf6Lf"
   },
   "outputs": [],
   "source": [
    "# Load dataset and sample it down to 8% of the original size\n",
    "# Reset index after sampling to make indices easier to reason about\n",
    "df = pd.read_csv('tracks_features.csv')\n",
    "df = df.sample(frac=.08, random_state=42).reset_index()\n",
    "\n",
    "# Drop old index to avoid confusing it for the new one\n",
    "df = df.drop(columns=['index'])"
   ]
  },
  {
   "cell_type": "markdown",
   "metadata": {
    "id": "hVnnISFOgo3v"
   },
   "source": [
    "### Usable Columns?\n",
    "\n",
    "Columns that I can use with minimal data cleaning to make a simple recommender system. I could definitely make this better if I went to the work to make more columns or to do some feature engineering, but I want to get to a working prototype as fast as possible.\n",
    "\n",
    "- explicit\n",
    "- danceability\n",
    "- energy\n",
    "- key\n",
    "- loudness\n",
    "- mode\n",
    "- speechiness\n",
    "- acousticness\n",
    "- time_signature\n",
    "- year \n",
    "\n",
    "Todo:\n",
    "\n",
    "- Check for Null Values (None)\n",
    "- Categorically encode `explicit` column"
   ]
  },
  {
   "cell_type": "code",
   "execution_count": 19,
   "metadata": {
    "colab": {
     "base_uri": "https://localhost:8080/"
    },
    "id": "ywEvxnD6gN3H",
    "outputId": "f550f7de-563a-482c-98a0-9b9239d4e0b6"
   },
   "outputs": [
    {
     "data": {
      "text/plain": [
       "(1204025, 24)"
      ]
     },
     "execution_count": 19,
     "metadata": {},
     "output_type": "execute_result"
    }
   ],
   "source": [
    "df.shape"
   ]
  },
  {
   "cell_type": "code",
   "execution_count": 206,
   "metadata": {
    "colab": {
     "base_uri": "https://localhost:8080/"
    },
    "id": "GEswycLHgRdi",
    "outputId": "ad5d63a3-3ebd-407a-ebed-3f89a78233f9"
   },
   "outputs": [
    {
     "data": {
      "text/plain": [
       "Index(['id', 'name', 'album', 'album_id', 'artists', 'artist_ids',\n",
       "       'track_number', 'disc_number', 'explicit', 'danceability', 'energy',\n",
       "       'key', 'loudness', 'mode', 'speechiness', 'acousticness',\n",
       "       'instrumentalness', 'liveness', 'valence', 'tempo', 'duration_ms',\n",
       "       'time_signature', 'year', 'release_date'],\n",
       "      dtype='object')"
      ]
     },
     "execution_count": 206,
     "metadata": {},
     "output_type": "execute_result"
    }
   ],
   "source": [
    "df.columns"
   ]
  },
  {
   "cell_type": "code",
   "execution_count": 207,
   "metadata": {
    "colab": {
     "base_uri": "https://localhost:8080/",
     "height": 525
    },
    "id": "r4F6qfJ_gz1a",
    "outputId": "9177d165-9465-43db-a1d9-8495c7ace33e"
   },
   "outputs": [
    {
     "data": {
      "text/html": [
       "\n",
       "  <div id=\"df-5881e377-5c8d-4a32-93ff-c8ec1a71b1b6\">\n",
       "    <div class=\"colab-df-container\">\n",
       "      <div>\n",
       "<style scoped>\n",
       "    .dataframe tbody tr th:only-of-type {\n",
       "        vertical-align: middle;\n",
       "    }\n",
       "\n",
       "    .dataframe tbody tr th {\n",
       "        vertical-align: top;\n",
       "    }\n",
       "\n",
       "    .dataframe thead th {\n",
       "        text-align: right;\n",
       "    }\n",
       "</style>\n",
       "<table border=\"1\" class=\"dataframe\">\n",
       "  <thead>\n",
       "    <tr style=\"text-align: right;\">\n",
       "      <th></th>\n",
       "      <th>id</th>\n",
       "      <th>name</th>\n",
       "      <th>album</th>\n",
       "      <th>album_id</th>\n",
       "      <th>artists</th>\n",
       "      <th>artist_ids</th>\n",
       "      <th>track_number</th>\n",
       "      <th>disc_number</th>\n",
       "      <th>explicit</th>\n",
       "      <th>danceability</th>\n",
       "      <th>...</th>\n",
       "      <th>speechiness</th>\n",
       "      <th>acousticness</th>\n",
       "      <th>instrumentalness</th>\n",
       "      <th>liveness</th>\n",
       "      <th>valence</th>\n",
       "      <th>tempo</th>\n",
       "      <th>duration_ms</th>\n",
       "      <th>time_signature</th>\n",
       "      <th>year</th>\n",
       "      <th>release_date</th>\n",
       "    </tr>\n",
       "  </thead>\n",
       "  <tbody>\n",
       "    <tr>\n",
       "      <th>0</th>\n",
       "      <td>1aGS6nf2xgv3Xzdob4eOO3</td>\n",
       "      <td>Smokin' Sticky Sticky</td>\n",
       "      <td>Beat'n Down Yo Block</td>\n",
       "      <td>5ZO72kl3xMRRzlpod55k1Q</td>\n",
       "      <td>['Unk']</td>\n",
       "      <td>['0PGtMx1bsqoCHCy3MB3gXA']</td>\n",
       "      <td>15</td>\n",
       "      <td>1</td>\n",
       "      <td>True</td>\n",
       "      <td>0.623</td>\n",
       "      <td>...</td>\n",
       "      <td>0.4020</td>\n",
       "      <td>0.002100</td>\n",
       "      <td>0.000000</td>\n",
       "      <td>0.0691</td>\n",
       "      <td>0.422</td>\n",
       "      <td>87.988</td>\n",
       "      <td>380427</td>\n",
       "      <td>4.0</td>\n",
       "      <td>2006</td>\n",
       "      <td>2006-10-03</td>\n",
       "    </tr>\n",
       "    <tr>\n",
       "      <th>1</th>\n",
       "      <td>0fJfoqHIIiET2EcgjOfntG</td>\n",
       "      <td>Holding Back the Years</td>\n",
       "      <td>Holding Back The Years</td>\n",
       "      <td>7sV4kCqQYt8agM5TjkdOYU</td>\n",
       "      <td>['Norm Douglas']</td>\n",
       "      <td>['4kxKyoiYhldUlnfeCZtD0D']</td>\n",
       "      <td>1</td>\n",
       "      <td>1</td>\n",
       "      <td>False</td>\n",
       "      <td>0.585</td>\n",
       "      <td>...</td>\n",
       "      <td>0.0333</td>\n",
       "      <td>0.316000</td>\n",
       "      <td>0.775000</td>\n",
       "      <td>0.0993</td>\n",
       "      <td>0.880</td>\n",
       "      <td>170.082</td>\n",
       "      <td>266520</td>\n",
       "      <td>4.0</td>\n",
       "      <td>2008</td>\n",
       "      <td>2008-06-13</td>\n",
       "    </tr>\n",
       "    <tr>\n",
       "      <th>2</th>\n",
       "      <td>0V2R2LC8dR7S0REieXRaGt</td>\n",
       "      <td>All Along The Watchtower - Live - 1991</td>\n",
       "      <td>Back On The Bus, Y'All</td>\n",
       "      <td>3jmmx4jRkul3POEhn1cgwF</td>\n",
       "      <td>['Indigo Girls']</td>\n",
       "      <td>['4wM29TDTr3HI0qFY3KoSFG']</td>\n",
       "      <td>7</td>\n",
       "      <td>1</td>\n",
       "      <td>False</td>\n",
       "      <td>0.331</td>\n",
       "      <td>...</td>\n",
       "      <td>0.0379</td>\n",
       "      <td>0.709000</td>\n",
       "      <td>0.000000</td>\n",
       "      <td>0.9390</td>\n",
       "      <td>0.430</td>\n",
       "      <td>90.648</td>\n",
       "      <td>383773</td>\n",
       "      <td>4.0</td>\n",
       "      <td>1991</td>\n",
       "      <td>1991-06-04</td>\n",
       "    </tr>\n",
       "    <tr>\n",
       "      <th>3</th>\n",
       "      <td>4VUHYLocWOJ2GfvP78AmSs</td>\n",
       "      <td>Windmills</td>\n",
       "      <td>Total Folklore</td>\n",
       "      <td>5PyLkzuxmT6EoVNZCg8Iya</td>\n",
       "      <td>['Dan Friel']</td>\n",
       "      <td>['4HKTPJw50BFASrfhJEHIVP']</td>\n",
       "      <td>2</td>\n",
       "      <td>1</td>\n",
       "      <td>False</td>\n",
       "      <td>0.193</td>\n",
       "      <td>...</td>\n",
       "      <td>0.1090</td>\n",
       "      <td>0.000049</td>\n",
       "      <td>0.838000</td>\n",
       "      <td>0.2850</td>\n",
       "      <td>0.594</td>\n",
       "      <td>113.345</td>\n",
       "      <td>82493</td>\n",
       "      <td>4.0</td>\n",
       "      <td>2013</td>\n",
       "      <td>2013-02-19</td>\n",
       "    </tr>\n",
       "    <tr>\n",
       "      <th>4</th>\n",
       "      <td>4m8a1AtmCnoeRzSYoQ0oX0</td>\n",
       "      <td>Overnite Flite</td>\n",
       "      <td>Normal Human Feelings</td>\n",
       "      <td>623VIdYR6Y0NCN9yPbMAC6</td>\n",
       "      <td>['Little Suns']</td>\n",
       "      <td>['5OLcAqMbHpecNOIQyTduQ7']</td>\n",
       "      <td>2</td>\n",
       "      <td>1</td>\n",
       "      <td>False</td>\n",
       "      <td>0.546</td>\n",
       "      <td>...</td>\n",
       "      <td>0.0323</td>\n",
       "      <td>0.427000</td>\n",
       "      <td>0.000105</td>\n",
       "      <td>0.1970</td>\n",
       "      <td>0.424</td>\n",
       "      <td>127.941</td>\n",
       "      <td>230667</td>\n",
       "      <td>1.0</td>\n",
       "      <td>2013</td>\n",
       "      <td>2013-10-08</td>\n",
       "    </tr>\n",
       "  </tbody>\n",
       "</table>\n",
       "<p>5 rows × 24 columns</p>\n",
       "</div>\n",
       "      <button class=\"colab-df-convert\" onclick=\"convertToInteractive('df-5881e377-5c8d-4a32-93ff-c8ec1a71b1b6')\"\n",
       "              title=\"Convert this dataframe to an interactive table.\"\n",
       "              style=\"display:none;\">\n",
       "        \n",
       "  <svg xmlns=\"http://www.w3.org/2000/svg\" height=\"24px\"viewBox=\"0 0 24 24\"\n",
       "       width=\"24px\">\n",
       "    <path d=\"M0 0h24v24H0V0z\" fill=\"none\"/>\n",
       "    <path d=\"M18.56 5.44l.94 2.06.94-2.06 2.06-.94-2.06-.94-.94-2.06-.94 2.06-2.06.94zm-11 1L8.5 8.5l.94-2.06 2.06-.94-2.06-.94L8.5 2.5l-.94 2.06-2.06.94zm10 10l.94 2.06.94-2.06 2.06-.94-2.06-.94-.94-2.06-.94 2.06-2.06.94z\"/><path d=\"M17.41 7.96l-1.37-1.37c-.4-.4-.92-.59-1.43-.59-.52 0-1.04.2-1.43.59L10.3 9.45l-7.72 7.72c-.78.78-.78 2.05 0 2.83L4 21.41c.39.39.9.59 1.41.59.51 0 1.02-.2 1.41-.59l7.78-7.78 2.81-2.81c.8-.78.8-2.07 0-2.86zM5.41 20L4 18.59l7.72-7.72 1.47 1.35L5.41 20z\"/>\n",
       "  </svg>\n",
       "      </button>\n",
       "      \n",
       "  <style>\n",
       "    .colab-df-container {\n",
       "      display:flex;\n",
       "      flex-wrap:wrap;\n",
       "      gap: 12px;\n",
       "    }\n",
       "\n",
       "    .colab-df-convert {\n",
       "      background-color: #E8F0FE;\n",
       "      border: none;\n",
       "      border-radius: 50%;\n",
       "      cursor: pointer;\n",
       "      display: none;\n",
       "      fill: #1967D2;\n",
       "      height: 32px;\n",
       "      padding: 0 0 0 0;\n",
       "      width: 32px;\n",
       "    }\n",
       "\n",
       "    .colab-df-convert:hover {\n",
       "      background-color: #E2EBFA;\n",
       "      box-shadow: 0px 1px 2px rgba(60, 64, 67, 0.3), 0px 1px 3px 1px rgba(60, 64, 67, 0.15);\n",
       "      fill: #174EA6;\n",
       "    }\n",
       "\n",
       "    [theme=dark] .colab-df-convert {\n",
       "      background-color: #3B4455;\n",
       "      fill: #D2E3FC;\n",
       "    }\n",
       "\n",
       "    [theme=dark] .colab-df-convert:hover {\n",
       "      background-color: #434B5C;\n",
       "      box-shadow: 0px 1px 3px 1px rgba(0, 0, 0, 0.15);\n",
       "      filter: drop-shadow(0px 1px 2px rgba(0, 0, 0, 0.3));\n",
       "      fill: #FFFFFF;\n",
       "    }\n",
       "  </style>\n",
       "\n",
       "      <script>\n",
       "        const buttonEl =\n",
       "          document.querySelector('#df-5881e377-5c8d-4a32-93ff-c8ec1a71b1b6 button.colab-df-convert');\n",
       "        buttonEl.style.display =\n",
       "          google.colab.kernel.accessAllowed ? 'block' : 'none';\n",
       "\n",
       "        async function convertToInteractive(key) {\n",
       "          const element = document.querySelector('#df-5881e377-5c8d-4a32-93ff-c8ec1a71b1b6');\n",
       "          const dataTable =\n",
       "            await google.colab.kernel.invokeFunction('convertToInteractive',\n",
       "                                                     [key], {});\n",
       "          if (!dataTable) return;\n",
       "\n",
       "          const docLinkHtml = 'Like what you see? Visit the ' +\n",
       "            '<a target=\"_blank\" href=https://colab.research.google.com/notebooks/data_table.ipynb>data table notebook</a>'\n",
       "            + ' to learn more about interactive tables.';\n",
       "          element.innerHTML = '';\n",
       "          dataTable['output_type'] = 'display_data';\n",
       "          await google.colab.output.renderOutput(dataTable, element);\n",
       "          const docLink = document.createElement('div');\n",
       "          docLink.innerHTML = docLinkHtml;\n",
       "          element.appendChild(docLink);\n",
       "        }\n",
       "      </script>\n",
       "    </div>\n",
       "  </div>\n",
       "  "
      ],
      "text/plain": [
       "                       id                                    name  \\\n",
       "0  1aGS6nf2xgv3Xzdob4eOO3                   Smokin' Sticky Sticky   \n",
       "1  0fJfoqHIIiET2EcgjOfntG                  Holding Back the Years   \n",
       "2  0V2R2LC8dR7S0REieXRaGt  All Along The Watchtower - Live - 1991   \n",
       "3  4VUHYLocWOJ2GfvP78AmSs                               Windmills   \n",
       "4  4m8a1AtmCnoeRzSYoQ0oX0                          Overnite Flite   \n",
       "\n",
       "                    album                album_id           artists  \\\n",
       "0    Beat'n Down Yo Block  5ZO72kl3xMRRzlpod55k1Q           ['Unk']   \n",
       "1  Holding Back The Years  7sV4kCqQYt8agM5TjkdOYU  ['Norm Douglas']   \n",
       "2  Back On The Bus, Y'All  3jmmx4jRkul3POEhn1cgwF  ['Indigo Girls']   \n",
       "3          Total Folklore  5PyLkzuxmT6EoVNZCg8Iya     ['Dan Friel']   \n",
       "4   Normal Human Feelings  623VIdYR6Y0NCN9yPbMAC6   ['Little Suns']   \n",
       "\n",
       "                   artist_ids  track_number  disc_number  explicit  \\\n",
       "0  ['0PGtMx1bsqoCHCy3MB3gXA']            15            1      True   \n",
       "1  ['4kxKyoiYhldUlnfeCZtD0D']             1            1     False   \n",
       "2  ['4wM29TDTr3HI0qFY3KoSFG']             7            1     False   \n",
       "3  ['4HKTPJw50BFASrfhJEHIVP']             2            1     False   \n",
       "4  ['5OLcAqMbHpecNOIQyTduQ7']             2            1     False   \n",
       "\n",
       "   danceability  ...  speechiness  acousticness  instrumentalness  liveness  \\\n",
       "0         0.623  ...       0.4020      0.002100          0.000000    0.0691   \n",
       "1         0.585  ...       0.0333      0.316000          0.775000    0.0993   \n",
       "2         0.331  ...       0.0379      0.709000          0.000000    0.9390   \n",
       "3         0.193  ...       0.1090      0.000049          0.838000    0.2850   \n",
       "4         0.546  ...       0.0323      0.427000          0.000105    0.1970   \n",
       "\n",
       "   valence    tempo  duration_ms  time_signature  year  release_date  \n",
       "0    0.422   87.988       380427             4.0  2006    2006-10-03  \n",
       "1    0.880  170.082       266520             4.0  2008    2008-06-13  \n",
       "2    0.430   90.648       383773             4.0  1991    1991-06-04  \n",
       "3    0.594  113.345        82493             4.0  2013    2013-02-19  \n",
       "4    0.424  127.941       230667             1.0  2013    2013-10-08  \n",
       "\n",
       "[5 rows x 24 columns]"
      ]
     },
     "execution_count": 207,
     "metadata": {},
     "output_type": "execute_result"
    }
   ],
   "source": [
    "df.head()"
   ]
  },
  {
   "cell_type": "code",
   "execution_count": 3,
   "metadata": {},
   "outputs": [
    {
     "data": {
      "text/html": [
       "<div>\n",
       "<style scoped>\n",
       "    .dataframe tbody tr th:only-of-type {\n",
       "        vertical-align: middle;\n",
       "    }\n",
       "\n",
       "    .dataframe tbody tr th {\n",
       "        vertical-align: top;\n",
       "    }\n",
       "\n",
       "    .dataframe thead th {\n",
       "        text-align: right;\n",
       "    }\n",
       "</style>\n",
       "<table border=\"1\" class=\"dataframe\">\n",
       "  <thead>\n",
       "    <tr style=\"text-align: right;\">\n",
       "      <th></th>\n",
       "      <th>track_number</th>\n",
       "      <th>disc_number</th>\n",
       "      <th>danceability</th>\n",
       "      <th>energy</th>\n",
       "      <th>key</th>\n",
       "      <th>loudness</th>\n",
       "      <th>mode</th>\n",
       "      <th>speechiness</th>\n",
       "      <th>acousticness</th>\n",
       "      <th>instrumentalness</th>\n",
       "      <th>liveness</th>\n",
       "      <th>valence</th>\n",
       "      <th>tempo</th>\n",
       "      <th>duration_ms</th>\n",
       "      <th>time_signature</th>\n",
       "      <th>year</th>\n",
       "    </tr>\n",
       "  </thead>\n",
       "  <tbody>\n",
       "    <tr>\n",
       "      <th>count</th>\n",
       "      <td>96322.000000</td>\n",
       "      <td>96322.000000</td>\n",
       "      <td>96322.000000</td>\n",
       "      <td>96322.000000</td>\n",
       "      <td>96322.000000</td>\n",
       "      <td>96322.000000</td>\n",
       "      <td>96322.000000</td>\n",
       "      <td>96322.000000</td>\n",
       "      <td>96322.000000</td>\n",
       "      <td>96322.000000</td>\n",
       "      <td>96322.000000</td>\n",
       "      <td>96322.000000</td>\n",
       "      <td>96322.000000</td>\n",
       "      <td>9.632200e+04</td>\n",
       "      <td>96322.000000</td>\n",
       "      <td>96322.000000</td>\n",
       "    </tr>\n",
       "    <tr>\n",
       "      <th>mean</th>\n",
       "      <td>7.644557</td>\n",
       "      <td>1.057744</td>\n",
       "      <td>0.493364</td>\n",
       "      <td>0.508325</td>\n",
       "      <td>5.187081</td>\n",
       "      <td>-11.819708</td>\n",
       "      <td>0.667210</td>\n",
       "      <td>0.084782</td>\n",
       "      <td>0.447697</td>\n",
       "      <td>0.281490</td>\n",
       "      <td>0.201646</td>\n",
       "      <td>0.427116</td>\n",
       "      <td>117.659471</td>\n",
       "      <td>2.488989e+05</td>\n",
       "      <td>3.829696</td>\n",
       "      <td>2007.355578</td>\n",
       "    </tr>\n",
       "    <tr>\n",
       "      <th>std</th>\n",
       "      <td>5.971186</td>\n",
       "      <td>0.301655</td>\n",
       "      <td>0.189390</td>\n",
       "      <td>0.294787</td>\n",
       "      <td>3.537164</td>\n",
       "      <td>6.985058</td>\n",
       "      <td>0.471215</td>\n",
       "      <td>0.116789</td>\n",
       "      <td>0.385227</td>\n",
       "      <td>0.375692</td>\n",
       "      <td>0.180777</td>\n",
       "      <td>0.270253</td>\n",
       "      <td>30.890501</td>\n",
       "      <td>1.615197e+05</td>\n",
       "      <td>0.563752</td>\n",
       "      <td>10.611802</td>\n",
       "    </tr>\n",
       "    <tr>\n",
       "      <th>min</th>\n",
       "      <td>1.000000</td>\n",
       "      <td>1.000000</td>\n",
       "      <td>0.000000</td>\n",
       "      <td>0.000000</td>\n",
       "      <td>0.000000</td>\n",
       "      <td>-60.000000</td>\n",
       "      <td>0.000000</td>\n",
       "      <td>0.000000</td>\n",
       "      <td>0.000000</td>\n",
       "      <td>0.000000</td>\n",
       "      <td>0.000000</td>\n",
       "      <td>0.000000</td>\n",
       "      <td>0.000000</td>\n",
       "      <td>2.400000e+03</td>\n",
       "      <td>0.000000</td>\n",
       "      <td>1900.000000</td>\n",
       "    </tr>\n",
       "    <tr>\n",
       "      <th>25%</th>\n",
       "      <td>3.000000</td>\n",
       "      <td>1.000000</td>\n",
       "      <td>0.357000</td>\n",
       "      <td>0.250000</td>\n",
       "      <td>2.000000</td>\n",
       "      <td>-15.280000</td>\n",
       "      <td>0.000000</td>\n",
       "      <td>0.035100</td>\n",
       "      <td>0.037600</td>\n",
       "      <td>0.000008</td>\n",
       "      <td>0.096900</td>\n",
       "      <td>0.190000</td>\n",
       "      <td>94.074000</td>\n",
       "      <td>1.741330e+05</td>\n",
       "      <td>4.000000</td>\n",
       "      <td>2002.000000</td>\n",
       "    </tr>\n",
       "    <tr>\n",
       "      <th>50%</th>\n",
       "      <td>7.000000</td>\n",
       "      <td>1.000000</td>\n",
       "      <td>0.501000</td>\n",
       "      <td>0.523000</td>\n",
       "      <td>5.000000</td>\n",
       "      <td>-9.806000</td>\n",
       "      <td>1.000000</td>\n",
       "      <td>0.044500</td>\n",
       "      <td>0.390000</td>\n",
       "      <td>0.008035</td>\n",
       "      <td>0.125000</td>\n",
       "      <td>0.402000</td>\n",
       "      <td>116.895500</td>\n",
       "      <td>2.241730e+05</td>\n",
       "      <td>4.000000</td>\n",
       "      <td>2009.000000</td>\n",
       "    </tr>\n",
       "    <tr>\n",
       "      <th>75%</th>\n",
       "      <td>10.000000</td>\n",
       "      <td>1.000000</td>\n",
       "      <td>0.632750</td>\n",
       "      <td>0.765000</td>\n",
       "      <td>8.000000</td>\n",
       "      <td>-6.713000</td>\n",
       "      <td>1.000000</td>\n",
       "      <td>0.072600</td>\n",
       "      <td>0.863000</td>\n",
       "      <td>0.714000</td>\n",
       "      <td>0.245000</td>\n",
       "      <td>0.643000</td>\n",
       "      <td>137.107750</td>\n",
       "      <td>2.860000e+05</td>\n",
       "      <td>4.000000</td>\n",
       "      <td>2015.000000</td>\n",
       "    </tr>\n",
       "    <tr>\n",
       "      <th>max</th>\n",
       "      <td>50.000000</td>\n",
       "      <td>10.000000</td>\n",
       "      <td>0.988000</td>\n",
       "      <td>1.000000</td>\n",
       "      <td>11.000000</td>\n",
       "      <td>6.798000</td>\n",
       "      <td>1.000000</td>\n",
       "      <td>0.966000</td>\n",
       "      <td>0.996000</td>\n",
       "      <td>1.000000</td>\n",
       "      <td>0.999000</td>\n",
       "      <td>1.000000</td>\n",
       "      <td>247.996000</td>\n",
       "      <td>4.995315e+06</td>\n",
       "      <td>5.000000</td>\n",
       "      <td>2020.000000</td>\n",
       "    </tr>\n",
       "  </tbody>\n",
       "</table>\n",
       "</div>"
      ],
      "text/plain": [
       "       track_number   disc_number  danceability        energy           key  \\\n",
       "count  96322.000000  96322.000000  96322.000000  96322.000000  96322.000000   \n",
       "mean       7.644557      1.057744      0.493364      0.508325      5.187081   \n",
       "std        5.971186      0.301655      0.189390      0.294787      3.537164   \n",
       "min        1.000000      1.000000      0.000000      0.000000      0.000000   \n",
       "25%        3.000000      1.000000      0.357000      0.250000      2.000000   \n",
       "50%        7.000000      1.000000      0.501000      0.523000      5.000000   \n",
       "75%       10.000000      1.000000      0.632750      0.765000      8.000000   \n",
       "max       50.000000     10.000000      0.988000      1.000000     11.000000   \n",
       "\n",
       "           loudness          mode   speechiness  acousticness  \\\n",
       "count  96322.000000  96322.000000  96322.000000  96322.000000   \n",
       "mean     -11.819708      0.667210      0.084782      0.447697   \n",
       "std        6.985058      0.471215      0.116789      0.385227   \n",
       "min      -60.000000      0.000000      0.000000      0.000000   \n",
       "25%      -15.280000      0.000000      0.035100      0.037600   \n",
       "50%       -9.806000      1.000000      0.044500      0.390000   \n",
       "75%       -6.713000      1.000000      0.072600      0.863000   \n",
       "max        6.798000      1.000000      0.966000      0.996000   \n",
       "\n",
       "       instrumentalness      liveness       valence         tempo  \\\n",
       "count      96322.000000  96322.000000  96322.000000  96322.000000   \n",
       "mean           0.281490      0.201646      0.427116    117.659471   \n",
       "std            0.375692      0.180777      0.270253     30.890501   \n",
       "min            0.000000      0.000000      0.000000      0.000000   \n",
       "25%            0.000008      0.096900      0.190000     94.074000   \n",
       "50%            0.008035      0.125000      0.402000    116.895500   \n",
       "75%            0.714000      0.245000      0.643000    137.107750   \n",
       "max            1.000000      0.999000      1.000000    247.996000   \n",
       "\n",
       "        duration_ms  time_signature          year  \n",
       "count  9.632200e+04    96322.000000  96322.000000  \n",
       "mean   2.488989e+05        3.829696   2007.355578  \n",
       "std    1.615197e+05        0.563752     10.611802  \n",
       "min    2.400000e+03        0.000000   1900.000000  \n",
       "25%    1.741330e+05        4.000000   2002.000000  \n",
       "50%    2.241730e+05        4.000000   2009.000000  \n",
       "75%    2.860000e+05        4.000000   2015.000000  \n",
       "max    4.995315e+06        5.000000   2020.000000  "
      ]
     },
     "execution_count": 3,
     "metadata": {},
     "output_type": "execute_result"
    }
   ],
   "source": [
    "df.describe()"
   ]
  },
  {
   "cell_type": "code",
   "execution_count": 21,
   "metadata": {},
   "outputs": [
    {
     "name": "stdout",
     "output_type": "stream",
     "text": [
      "<class 'pandas.core.frame.DataFrame'>\n",
      "RangeIndex: 1204025 entries, 0 to 1204024\n",
      "Data columns (total 24 columns):\n",
      " #   Column            Non-Null Count    Dtype  \n",
      "---  ------            --------------    -----  \n",
      " 0   id                1204025 non-null  object \n",
      " 1   name              1204025 non-null  object \n",
      " 2   album             1204025 non-null  object \n",
      " 3   album_id          1204025 non-null  object \n",
      " 4   artists           1204025 non-null  object \n",
      " 5   artist_ids        1204025 non-null  object \n",
      " 6   track_number      1204025 non-null  int64  \n",
      " 7   disc_number       1204025 non-null  int64  \n",
      " 8   explicit          1204025 non-null  bool   \n",
      " 9   danceability      1204025 non-null  float64\n",
      " 10  energy            1204025 non-null  float64\n",
      " 11  key               1204025 non-null  int64  \n",
      " 12  loudness          1204025 non-null  float64\n",
      " 13  mode              1204025 non-null  int64  \n",
      " 14  speechiness       1204025 non-null  float64\n",
      " 15  acousticness      1204025 non-null  float64\n",
      " 16  instrumentalness  1204025 non-null  float64\n",
      " 17  liveness          1204025 non-null  float64\n",
      " 18  valence           1204025 non-null  float64\n",
      " 19  tempo             1204025 non-null  float64\n",
      " 20  duration_ms       1204025 non-null  int64  \n",
      " 21  time_signature    1204025 non-null  float64\n",
      " 22  year              1204025 non-null  int64  \n",
      " 23  release_date      1204025 non-null  object \n",
      "dtypes: bool(1), float64(10), int64(6), object(7)\n",
      "memory usage: 212.4+ MB\n"
     ]
    }
   ],
   "source": [
    "df.info()"
   ]
  },
  {
   "cell_type": "code",
   "execution_count": 208,
   "metadata": {
    "colab": {
     "base_uri": "https://localhost:8080/"
    },
    "id": "o5cVLeoMg0fc",
    "outputId": "e5379d39-32db-4bd4-f22d-2de6a8f708ff"
   },
   "outputs": [
    {
     "data": {
      "text/plain": [
       "id                  0\n",
       "name                0\n",
       "album               0\n",
       "album_id            0\n",
       "artists             0\n",
       "artist_ids          0\n",
       "track_number        0\n",
       "disc_number         0\n",
       "explicit            0\n",
       "danceability        0\n",
       "energy              0\n",
       "key                 0\n",
       "loudness            0\n",
       "mode                0\n",
       "speechiness         0\n",
       "acousticness        0\n",
       "instrumentalness    0\n",
       "liveness            0\n",
       "valence             0\n",
       "tempo               0\n",
       "duration_ms         0\n",
       "time_signature      0\n",
       "year                0\n",
       "release_date        0\n",
       "dtype: int64"
      ]
     },
     "execution_count": 208,
     "metadata": {},
     "output_type": "execute_result"
    }
   ],
   "source": [
    "# no null values\n",
    "df.isnull().sum()"
   ]
  },
  {
   "cell_type": "code",
   "execution_count": 16,
   "metadata": {},
   "outputs": [
    {
     "data": {
      "text/plain": [
       "0"
      ]
     },
     "execution_count": 16,
     "metadata": {},
     "output_type": "execute_result"
    }
   ],
   "source": [
    "df.isnull().sum().sum()"
   ]
  },
  {
   "cell_type": "code",
   "execution_count": 3,
   "metadata": {
    "colab": {
     "base_uri": "https://localhost:8080/",
     "height": 525
    },
    "id": "JKbhE-IehRCZ",
    "outputId": "94dfaa7a-5c41-47f9-a07b-65c845518cf8"
   },
   "outputs": [
    {
     "data": {
      "text/html": [
       "<div>\n",
       "<style scoped>\n",
       "    .dataframe tbody tr th:only-of-type {\n",
       "        vertical-align: middle;\n",
       "    }\n",
       "\n",
       "    .dataframe tbody tr th {\n",
       "        vertical-align: top;\n",
       "    }\n",
       "\n",
       "    .dataframe thead th {\n",
       "        text-align: right;\n",
       "    }\n",
       "</style>\n",
       "<table border=\"1\" class=\"dataframe\">\n",
       "  <thead>\n",
       "    <tr style=\"text-align: right;\">\n",
       "      <th></th>\n",
       "      <th>id</th>\n",
       "      <th>name</th>\n",
       "      <th>album</th>\n",
       "      <th>album_id</th>\n",
       "      <th>artists</th>\n",
       "      <th>artist_ids</th>\n",
       "      <th>track_number</th>\n",
       "      <th>disc_number</th>\n",
       "      <th>explicit</th>\n",
       "      <th>danceability</th>\n",
       "      <th>...</th>\n",
       "      <th>speechiness</th>\n",
       "      <th>acousticness</th>\n",
       "      <th>instrumentalness</th>\n",
       "      <th>liveness</th>\n",
       "      <th>valence</th>\n",
       "      <th>tempo</th>\n",
       "      <th>duration_ms</th>\n",
       "      <th>time_signature</th>\n",
       "      <th>year</th>\n",
       "      <th>release_date</th>\n",
       "    </tr>\n",
       "  </thead>\n",
       "  <tbody>\n",
       "    <tr>\n",
       "      <th>0</th>\n",
       "      <td>1aGS6nf2xgv3Xzdob4eOO3</td>\n",
       "      <td>Smokin' Sticky Sticky</td>\n",
       "      <td>Beat'n Down Yo Block</td>\n",
       "      <td>5ZO72kl3xMRRzlpod55k1Q</td>\n",
       "      <td>['Unk']</td>\n",
       "      <td>['0PGtMx1bsqoCHCy3MB3gXA']</td>\n",
       "      <td>15</td>\n",
       "      <td>1</td>\n",
       "      <td>1</td>\n",
       "      <td>0.623</td>\n",
       "      <td>...</td>\n",
       "      <td>0.4020</td>\n",
       "      <td>0.002100</td>\n",
       "      <td>0.000000</td>\n",
       "      <td>0.0691</td>\n",
       "      <td>0.422</td>\n",
       "      <td>87.988</td>\n",
       "      <td>380427</td>\n",
       "      <td>4.0</td>\n",
       "      <td>2006</td>\n",
       "      <td>2006-10-03</td>\n",
       "    </tr>\n",
       "    <tr>\n",
       "      <th>1</th>\n",
       "      <td>0fJfoqHIIiET2EcgjOfntG</td>\n",
       "      <td>Holding Back the Years</td>\n",
       "      <td>Holding Back The Years</td>\n",
       "      <td>7sV4kCqQYt8agM5TjkdOYU</td>\n",
       "      <td>['Norm Douglas']</td>\n",
       "      <td>['4kxKyoiYhldUlnfeCZtD0D']</td>\n",
       "      <td>1</td>\n",
       "      <td>1</td>\n",
       "      <td>0</td>\n",
       "      <td>0.585</td>\n",
       "      <td>...</td>\n",
       "      <td>0.0333</td>\n",
       "      <td>0.316000</td>\n",
       "      <td>0.775000</td>\n",
       "      <td>0.0993</td>\n",
       "      <td>0.880</td>\n",
       "      <td>170.082</td>\n",
       "      <td>266520</td>\n",
       "      <td>4.0</td>\n",
       "      <td>2008</td>\n",
       "      <td>2008-06-13</td>\n",
       "    </tr>\n",
       "    <tr>\n",
       "      <th>2</th>\n",
       "      <td>0V2R2LC8dR7S0REieXRaGt</td>\n",
       "      <td>All Along The Watchtower - Live - 1991</td>\n",
       "      <td>Back On The Bus, Y'All</td>\n",
       "      <td>3jmmx4jRkul3POEhn1cgwF</td>\n",
       "      <td>['Indigo Girls']</td>\n",
       "      <td>['4wM29TDTr3HI0qFY3KoSFG']</td>\n",
       "      <td>7</td>\n",
       "      <td>1</td>\n",
       "      <td>0</td>\n",
       "      <td>0.331</td>\n",
       "      <td>...</td>\n",
       "      <td>0.0379</td>\n",
       "      <td>0.709000</td>\n",
       "      <td>0.000000</td>\n",
       "      <td>0.9390</td>\n",
       "      <td>0.430</td>\n",
       "      <td>90.648</td>\n",
       "      <td>383773</td>\n",
       "      <td>4.0</td>\n",
       "      <td>1991</td>\n",
       "      <td>1991-06-04</td>\n",
       "    </tr>\n",
       "    <tr>\n",
       "      <th>3</th>\n",
       "      <td>4VUHYLocWOJ2GfvP78AmSs</td>\n",
       "      <td>Windmills</td>\n",
       "      <td>Total Folklore</td>\n",
       "      <td>5PyLkzuxmT6EoVNZCg8Iya</td>\n",
       "      <td>['Dan Friel']</td>\n",
       "      <td>['4HKTPJw50BFASrfhJEHIVP']</td>\n",
       "      <td>2</td>\n",
       "      <td>1</td>\n",
       "      <td>0</td>\n",
       "      <td>0.193</td>\n",
       "      <td>...</td>\n",
       "      <td>0.1090</td>\n",
       "      <td>0.000049</td>\n",
       "      <td>0.838000</td>\n",
       "      <td>0.2850</td>\n",
       "      <td>0.594</td>\n",
       "      <td>113.345</td>\n",
       "      <td>82493</td>\n",
       "      <td>4.0</td>\n",
       "      <td>2013</td>\n",
       "      <td>2013-02-19</td>\n",
       "    </tr>\n",
       "    <tr>\n",
       "      <th>4</th>\n",
       "      <td>4m8a1AtmCnoeRzSYoQ0oX0</td>\n",
       "      <td>Overnite Flite</td>\n",
       "      <td>Normal Human Feelings</td>\n",
       "      <td>623VIdYR6Y0NCN9yPbMAC6</td>\n",
       "      <td>['Little Suns']</td>\n",
       "      <td>['5OLcAqMbHpecNOIQyTduQ7']</td>\n",
       "      <td>2</td>\n",
       "      <td>1</td>\n",
       "      <td>0</td>\n",
       "      <td>0.546</td>\n",
       "      <td>...</td>\n",
       "      <td>0.0323</td>\n",
       "      <td>0.427000</td>\n",
       "      <td>0.000105</td>\n",
       "      <td>0.1970</td>\n",
       "      <td>0.424</td>\n",
       "      <td>127.941</td>\n",
       "      <td>230667</td>\n",
       "      <td>1.0</td>\n",
       "      <td>2013</td>\n",
       "      <td>2013-10-08</td>\n",
       "    </tr>\n",
       "  </tbody>\n",
       "</table>\n",
       "<p>5 rows × 24 columns</p>\n",
       "</div>"
      ],
      "text/plain": [
       "                       id                                    name  \\\n",
       "0  1aGS6nf2xgv3Xzdob4eOO3                   Smokin' Sticky Sticky   \n",
       "1  0fJfoqHIIiET2EcgjOfntG                  Holding Back the Years   \n",
       "2  0V2R2LC8dR7S0REieXRaGt  All Along The Watchtower - Live - 1991   \n",
       "3  4VUHYLocWOJ2GfvP78AmSs                               Windmills   \n",
       "4  4m8a1AtmCnoeRzSYoQ0oX0                          Overnite Flite   \n",
       "\n",
       "                    album                album_id           artists  \\\n",
       "0    Beat'n Down Yo Block  5ZO72kl3xMRRzlpod55k1Q           ['Unk']   \n",
       "1  Holding Back The Years  7sV4kCqQYt8agM5TjkdOYU  ['Norm Douglas']   \n",
       "2  Back On The Bus, Y'All  3jmmx4jRkul3POEhn1cgwF  ['Indigo Girls']   \n",
       "3          Total Folklore  5PyLkzuxmT6EoVNZCg8Iya     ['Dan Friel']   \n",
       "4   Normal Human Feelings  623VIdYR6Y0NCN9yPbMAC6   ['Little Suns']   \n",
       "\n",
       "                   artist_ids  track_number  disc_number  explicit  \\\n",
       "0  ['0PGtMx1bsqoCHCy3MB3gXA']            15            1         1   \n",
       "1  ['4kxKyoiYhldUlnfeCZtD0D']             1            1         0   \n",
       "2  ['4wM29TDTr3HI0qFY3KoSFG']             7            1         0   \n",
       "3  ['4HKTPJw50BFASrfhJEHIVP']             2            1         0   \n",
       "4  ['5OLcAqMbHpecNOIQyTduQ7']             2            1         0   \n",
       "\n",
       "   danceability  ...  speechiness  acousticness  instrumentalness  liveness  \\\n",
       "0         0.623  ...       0.4020      0.002100          0.000000    0.0691   \n",
       "1         0.585  ...       0.0333      0.316000          0.775000    0.0993   \n",
       "2         0.331  ...       0.0379      0.709000          0.000000    0.9390   \n",
       "3         0.193  ...       0.1090      0.000049          0.838000    0.2850   \n",
       "4         0.546  ...       0.0323      0.427000          0.000105    0.1970   \n",
       "\n",
       "   valence    tempo  duration_ms  time_signature  year  release_date  \n",
       "0    0.422   87.988       380427             4.0  2006    2006-10-03  \n",
       "1    0.880  170.082       266520             4.0  2008    2008-06-13  \n",
       "2    0.430   90.648       383773             4.0  1991    1991-06-04  \n",
       "3    0.594  113.345        82493             4.0  2013    2013-02-19  \n",
       "4    0.424  127.941       230667             1.0  2013    2013-10-08  \n",
       "\n",
       "[5 rows x 24 columns]"
      ]
     },
     "execution_count": 3,
     "metadata": {},
     "output_type": "execute_result"
    }
   ],
   "source": [
    "# any column that contains True and False will automatically\n",
    "# change to 1s and 0s when cast to the `int` datatype\n",
    "df['explicit'] = df['explicit'].astype(int)\n",
    "\n",
    "df.head()"
   ]
  },
  {
   "cell_type": "markdown",
   "metadata": {
    "id": "oLYmq596iMvj"
   },
   "source": [
    "## Create X Matrix of numeric song attributes"
   ]
  },
  {
   "cell_type": "code",
   "execution_count": 7,
   "metadata": {
    "colab": {
     "base_uri": "https://localhost:8080/",
     "height": 206
    },
    "id": "oc5wc7TViMGK",
    "outputId": "209a96ea-ab90-44d0-efc6-1ff7f55637cc"
   },
   "outputs": [
    {
     "data": {
      "text/html": [
       "<div>\n",
       "<style scoped>\n",
       "    .dataframe tbody tr th:only-of-type {\n",
       "        vertical-align: middle;\n",
       "    }\n",
       "\n",
       "    .dataframe tbody tr th {\n",
       "        vertical-align: top;\n",
       "    }\n",
       "\n",
       "    .dataframe thead th {\n",
       "        text-align: right;\n",
       "    }\n",
       "</style>\n",
       "<table border=\"1\" class=\"dataframe\">\n",
       "  <thead>\n",
       "    <tr style=\"text-align: right;\">\n",
       "      <th></th>\n",
       "      <th>explicit</th>\n",
       "      <th>danceability</th>\n",
       "      <th>energy</th>\n",
       "      <th>key</th>\n",
       "      <th>loudness</th>\n",
       "      <th>mode</th>\n",
       "      <th>speechiness</th>\n",
       "      <th>acousticness</th>\n",
       "      <th>time_signature</th>\n",
       "      <th>year</th>\n",
       "    </tr>\n",
       "  </thead>\n",
       "  <tbody>\n",
       "    <tr>\n",
       "      <th>0</th>\n",
       "      <td>1</td>\n",
       "      <td>0.623</td>\n",
       "      <td>0.736</td>\n",
       "      <td>11</td>\n",
       "      <td>-3.657</td>\n",
       "      <td>0</td>\n",
       "      <td>0.4020</td>\n",
       "      <td>0.002100</td>\n",
       "      <td>4.0</td>\n",
       "      <td>2006</td>\n",
       "    </tr>\n",
       "    <tr>\n",
       "      <th>1</th>\n",
       "      <td>0</td>\n",
       "      <td>0.585</td>\n",
       "      <td>0.639</td>\n",
       "      <td>2</td>\n",
       "      <td>-9.641</td>\n",
       "      <td>0</td>\n",
       "      <td>0.0333</td>\n",
       "      <td>0.316000</td>\n",
       "      <td>4.0</td>\n",
       "      <td>2008</td>\n",
       "    </tr>\n",
       "    <tr>\n",
       "      <th>2</th>\n",
       "      <td>0</td>\n",
       "      <td>0.331</td>\n",
       "      <td>0.466</td>\n",
       "      <td>9</td>\n",
       "      <td>-14.287</td>\n",
       "      <td>0</td>\n",
       "      <td>0.0379</td>\n",
       "      <td>0.709000</td>\n",
       "      <td>4.0</td>\n",
       "      <td>1991</td>\n",
       "    </tr>\n",
       "    <tr>\n",
       "      <th>3</th>\n",
       "      <td>0</td>\n",
       "      <td>0.193</td>\n",
       "      <td>0.856</td>\n",
       "      <td>4</td>\n",
       "      <td>-2.970</td>\n",
       "      <td>1</td>\n",
       "      <td>0.1090</td>\n",
       "      <td>0.000049</td>\n",
       "      <td>4.0</td>\n",
       "      <td>2013</td>\n",
       "    </tr>\n",
       "    <tr>\n",
       "      <th>4</th>\n",
       "      <td>0</td>\n",
       "      <td>0.546</td>\n",
       "      <td>0.373</td>\n",
       "      <td>3</td>\n",
       "      <td>-13.929</td>\n",
       "      <td>1</td>\n",
       "      <td>0.0323</td>\n",
       "      <td>0.427000</td>\n",
       "      <td>1.0</td>\n",
       "      <td>2013</td>\n",
       "    </tr>\n",
       "  </tbody>\n",
       "</table>\n",
       "</div>"
      ],
      "text/plain": [
       "   explicit  danceability  energy  key  loudness  mode  speechiness  \\\n",
       "0         1         0.623   0.736   11    -3.657     0       0.4020   \n",
       "1         0         0.585   0.639    2    -9.641     0       0.0333   \n",
       "2         0         0.331   0.466    9   -14.287     0       0.0379   \n",
       "3         0         0.193   0.856    4    -2.970     1       0.1090   \n",
       "4         0         0.546   0.373    3   -13.929     1       0.0323   \n",
       "\n",
       "   acousticness  time_signature  year  \n",
       "0      0.002100             4.0  2006  \n",
       "1      0.316000             4.0  2008  \n",
       "2      0.709000             4.0  1991  \n",
       "3      0.000049             4.0  2013  \n",
       "4      0.427000             1.0  2013  "
      ]
     },
     "execution_count": 7,
     "metadata": {},
     "output_type": "execute_result"
    }
   ],
   "source": [
    "df['index'] = df.index\n",
    "usable_columns =['explicit', 'danceability', 'energy', 'key', 'loudness', \n",
    "                'mode', 'speechiness', 'acousticness', 'time_signature', \n",
    "                 'year']\n",
    "\n",
    "X = df[usable_columns]\n",
    "\n",
    "X.head()"
   ]
  },
  {
   "cell_type": "code",
   "execution_count": 22,
   "metadata": {},
   "outputs": [
    {
     "name": "stdout",
     "output_type": "stream",
     "text": [
      "<class 'pandas.core.frame.DataFrame'>\n"
     ]
    }
   ],
   "source": [
    "print(type(df))"
   ]
  },
  {
   "cell_type": "markdown",
   "metadata": {
    "id": "vQ8K5g3-h-Ny"
   },
   "source": [
    "# Use Nearest Neighbors to get 5 most similar songs.\n",
    "\n",
    "> Indented block\n",
    "\n"
   ]
  },
  {
   "cell_type": "code",
   "execution_count": 8,
   "metadata": {
    "colab": {
     "base_uri": "https://localhost:8080/"
    },
    "id": "Qcwyb-uGht6m",
    "outputId": "c5420065-9f56-4c5e-d2d0-92984978a7b4"
   },
   "outputs": [
    {
     "data": {
      "text/plain": [
       "NearestNeighbors(n_jobs=-1)"
      ]
     },
     "execution_count": 8,
     "metadata": {},
     "output_type": "execute_result"
    }
   ],
   "source": [
    "neigh = NearestNeighbors(n_neighbors=5, algorithm='auto', n_jobs=-1)\n",
    "neigh.fit(X)"
   ]
  },
  {
   "cell_type": "code",
   "execution_count": 10,
   "metadata": {},
   "outputs": [
    {
     "data": {
      "text/plain": [
       "['model.sav']"
      ]
     },
     "execution_count": 10,
     "metadata": {},
     "output_type": "execute_result"
    }
   ],
   "source": [
    "filename = 'model.sav'\n",
    "dump(neigh, filename)"
   ]
  },
  {
   "cell_type": "code",
   "execution_count": 16,
   "metadata": {},
   "outputs": [],
   "source": [
    "filename = 'pickle_model.sav'\n",
    "pickle.dump(neigh, open(filename, 'wb'))"
   ]
  },
  {
   "cell_type": "code",
   "execution_count": 15,
   "metadata": {
    "colab": {
     "base_uri": "https://localhost:8080/",
     "height": 309
    },
    "id": "g1y10v4TjfLT",
    "outputId": "1925a7f0-09a9-4c6e-a719-8fd25194cfbf"
   },
   "outputs": [
    {
     "data": {
      "text/html": [
       "<div>\n",
       "<style scoped>\n",
       "    .dataframe tbody tr th:only-of-type {\n",
       "        vertical-align: middle;\n",
       "    }\n",
       "\n",
       "    .dataframe tbody tr th {\n",
       "        vertical-align: top;\n",
       "    }\n",
       "\n",
       "    .dataframe thead th {\n",
       "        text-align: right;\n",
       "    }\n",
       "</style>\n",
       "<table border=\"1\" class=\"dataframe\">\n",
       "  <thead>\n",
       "    <tr style=\"text-align: right;\">\n",
       "      <th></th>\n",
       "      <th>id</th>\n",
       "      <th>name</th>\n",
       "      <th>album</th>\n",
       "      <th>album_id</th>\n",
       "      <th>artists</th>\n",
       "      <th>artist_ids</th>\n",
       "      <th>track_number</th>\n",
       "      <th>disc_number</th>\n",
       "      <th>explicit</th>\n",
       "      <th>danceability</th>\n",
       "      <th>...</th>\n",
       "      <th>speechiness</th>\n",
       "      <th>acousticness</th>\n",
       "      <th>instrumentalness</th>\n",
       "      <th>liveness</th>\n",
       "      <th>valence</th>\n",
       "      <th>tempo</th>\n",
       "      <th>duration_ms</th>\n",
       "      <th>time_signature</th>\n",
       "      <th>year</th>\n",
       "      <th>release_date</th>\n",
       "    </tr>\n",
       "  </thead>\n",
       "  <tbody>\n",
       "    <tr>\n",
       "      <th>1</th>\n",
       "      <td>0fJfoqHIIiET2EcgjOfntG</td>\n",
       "      <td>Holding Back the Years</td>\n",
       "      <td>Holding Back The Years</td>\n",
       "      <td>7sV4kCqQYt8agM5TjkdOYU</td>\n",
       "      <td>['Norm Douglas']</td>\n",
       "      <td>['4kxKyoiYhldUlnfeCZtD0D']</td>\n",
       "      <td>1</td>\n",
       "      <td>1</td>\n",
       "      <td>0</td>\n",
       "      <td>0.585</td>\n",
       "      <td>...</td>\n",
       "      <td>0.0333</td>\n",
       "      <td>0.316</td>\n",
       "      <td>0.775</td>\n",
       "      <td>0.0993</td>\n",
       "      <td>0.880</td>\n",
       "      <td>170.082</td>\n",
       "      <td>266520</td>\n",
       "      <td>4.0</td>\n",
       "      <td>2008</td>\n",
       "      <td>2008-06-13</td>\n",
       "    </tr>\n",
       "    <tr>\n",
       "      <th>82635</th>\n",
       "      <td>5F9WGLNnZRRwVyiCt1nHDr</td>\n",
       "      <td>Holding Back the Years</td>\n",
       "      <td>The Lost and Found</td>\n",
       "      <td>4fZx2cNk1Vod8jZkPSWBpv</td>\n",
       "      <td>['Gretchen Parlato']</td>\n",
       "      <td>['76Gi1qoWLrIerL5FcL0TZb']</td>\n",
       "      <td>1</td>\n",
       "      <td>1</td>\n",
       "      <td>0</td>\n",
       "      <td>0.541</td>\n",
       "      <td>...</td>\n",
       "      <td>0.0427</td>\n",
       "      <td>0.778</td>\n",
       "      <td>0.130</td>\n",
       "      <td>0.1150</td>\n",
       "      <td>0.127</td>\n",
       "      <td>92.624</td>\n",
       "      <td>226587</td>\n",
       "      <td>4.0</td>\n",
       "      <td>2011</td>\n",
       "      <td>2011-04-05</td>\n",
       "    </tr>\n",
       "  </tbody>\n",
       "</table>\n",
       "<p>2 rows × 24 columns</p>\n",
       "</div>"
      ],
      "text/plain": [
       "                           id                    name                   album  \\\n",
       "1      0fJfoqHIIiET2EcgjOfntG  Holding Back the Years  Holding Back The Years   \n",
       "82635  5F9WGLNnZRRwVyiCt1nHDr  Holding Back the Years      The Lost and Found   \n",
       "\n",
       "                     album_id               artists  \\\n",
       "1      7sV4kCqQYt8agM5TjkdOYU      ['Norm Douglas']   \n",
       "82635  4fZx2cNk1Vod8jZkPSWBpv  ['Gretchen Parlato']   \n",
       "\n",
       "                       artist_ids  track_number  disc_number  explicit  \\\n",
       "1      ['4kxKyoiYhldUlnfeCZtD0D']             1            1         0   \n",
       "82635  ['76Gi1qoWLrIerL5FcL0TZb']             1            1         0   \n",
       "\n",
       "       danceability  ...  speechiness  acousticness  instrumentalness  \\\n",
       "1             0.585  ...       0.0333         0.316             0.775   \n",
       "82635         0.541  ...       0.0427         0.778             0.130   \n",
       "\n",
       "       liveness  valence    tempo  duration_ms  time_signature  year  \\\n",
       "1        0.0993    0.880  170.082       266520             4.0  2008   \n",
       "82635    0.1150    0.127   92.624       226587             4.0  2011   \n",
       "\n",
       "       release_date  \n",
       "1        2008-06-13  \n",
       "82635    2011-04-05  \n",
       "\n",
       "[2 rows x 24 columns]"
      ]
     },
     "execution_count": 15,
     "metadata": {},
     "output_type": "execute_result"
    }
   ],
   "source": [
    "# Track name needs to be exact match of spelling, punctuation and capitalization\n",
    "track_name = \"Holding Back the Years\"\n",
    "\n",
    "# Look at the song that we want to find recommendations for\n",
    "df[df['name'] == track_name]"
   ]
  },
  {
   "cell_type": "code",
   "execution_count": 16,
   "metadata": {
    "colab": {
     "base_uri": "https://localhost:8080/"
    },
    "id": "jEXyhLTNyff7",
    "outputId": "b5b9ac44-76d7-4345-958d-3183dd43ec0a"
   },
   "outputs": [
    {
     "name": "stdout",
     "output_type": "stream",
     "text": [
      "<class 'pandas.core.series.Series'>\n"
     ]
    },
    {
     "data": {
      "text/plain": [
       "explicit               0.0000\n",
       "danceability           0.5850\n",
       "energy                 0.6390\n",
       "key                    2.0000\n",
       "loudness              -9.6410\n",
       "mode                   0.0000\n",
       "speechiness            0.0333\n",
       "acousticness           0.3160\n",
       "time_signature         4.0000\n",
       "year                2008.0000\n",
       "tempo                170.0820\n",
       "liveness               0.0993\n",
       "valence                0.8800\n",
       "instrumentalness       0.7750\n",
       "Name: 1, dtype: float64"
      ]
     },
     "execution_count": 16,
     "metadata": {},
     "output_type": "execute_result"
    }
   ],
   "source": [
    "# We may have multiple tracks that match this title, we'll just select the first one\n",
    "# We'll grab only its row index and then use that select the corresponding song's\n",
    "# data from our X matrix.\n",
    "track_index = df[df['name'] == track_name].index[0]\n",
    "\n",
    "track_data = X.iloc[track_index]\n",
    "\n",
    "print(type(track_data))\n",
    "track_data"
   ]
  },
  {
   "cell_type": "code",
   "execution_count": 17,
   "metadata": {
    "colab": {
     "base_uri": "https://localhost:8080/"
    },
    "id": "JFYIauozk-lx",
    "outputId": "d2fe7133-ce74-4372-c16b-13ec733ac83f"
   },
   "outputs": [
    {
     "name": "stdout",
     "output_type": "stream",
     "text": [
      "<class 'numpy.ndarray'>\n"
     ]
    },
    {
     "data": {
      "text/plain": [
       "array([[ 0.00000e+00,  5.85000e-01,  6.39000e-01,  2.00000e+00,\n",
       "        -9.64100e+00,  0.00000e+00,  3.33000e-02,  3.16000e-01,\n",
       "         4.00000e+00,  2.00800e+03,  1.70082e+02,  9.93000e-02,\n",
       "         8.80000e-01,  7.75000e-01]])"
      ]
     },
     "execution_count": 17,
     "metadata": {},
     "output_type": "execute_result"
    }
   ],
   "source": [
    "# Input to model must be a 2D array\n",
    "# .reshape(1,-1) turns a 1D array into a 2D array\n",
    "# (basically just adds an extra set of square brackets at\n",
    "# the beginning and end of the array.)\n",
    "track_data = track_data.values.reshape(1,-1)\n",
    "\n",
    "\n",
    "print(type(track_data))\n",
    "track_data"
   ]
  },
  {
   "cell_type": "code",
   "execution_count": 10,
   "metadata": {
    "colab": {
     "base_uri": "https://localhost:8080/"
    },
    "id": "ulHQX0Vck1S_",
    "outputId": "07ceec92-ef59-479d-b458-833395381a87"
   },
   "outputs": [
    {
     "data": {
      "text/plain": [
       "array([[    1, 95209, 44437, 89654, 81690, 83078]])"
      ]
     },
     "execution_count": 10,
     "metadata": {},
     "output_type": "execute_result"
    }
   ],
   "source": [
    "# Since the selected song is also in the training data,\n",
    "# the most similar song is itself \n",
    "# We will ask for 6 songs to get back 5 songs in addition to the one provided\n",
    "distances, song_indexes = neigh.kneighbors(track_data, 6)\n",
    "\n",
    "song_indexes"
   ]
  },
  {
   "cell_type": "code",
   "execution_count": 13,
   "metadata": {},
   "outputs": [
    {
     "name": "stdout",
     "output_type": "stream",
     "text": [
      "<class 'list'>\n",
      "<class 'list'>\n"
     ]
    },
    {
     "data": {
      "text/plain": [
       "[[False, 0.499, 0.899, 4, -8.478, 1, 0.2769999999999999, 2.13e-05, 4.0, 2006]]"
      ]
     },
     "execution_count": 13,
     "metadata": {},
     "output_type": "execute_result"
    }
   ],
   "source": [
    "usa = [[False,  0.499, 0.899, 4, -8.478, 1, 0.2769999999999999, 2.13e-05, 4.0, 2006]]\n",
    "print(type(usa))\n",
    "\n",
    "print(type(usa))\n",
    "usa"
   ]
  },
  {
   "cell_type": "code",
   "execution_count": 14,
   "metadata": {},
   "outputs": [
    {
     "data": {
      "text/plain": [
       "array([[   68, 39814, 82507, 60910, 95647, 74202]])"
      ]
     },
     "execution_count": 14,
     "metadata": {},
     "output_type": "execute_result"
    }
   ],
   "source": [
    "loaded_model = load('model.sav')\n",
    "distances, song_indexes = loaded_model.kneighbors(usa, 6)\n",
    "\n",
    "song_indexes"
   ]
  },
  {
   "cell_type": "code",
   "execution_count": 11,
   "metadata": {
    "colab": {
     "base_uri": "https://localhost:8080/"
    },
    "id": "m9eaSfkWmPI1",
    "outputId": "c7de5ce6-3c64-41a1-b473-316370caabde"
   },
   "outputs": [
    {
     "name": "stdout",
     "output_type": "stream",
     "text": [
      "                                      name                          artists\n",
      "1                   Holding Back the Years                 ['Norm Douglas']\n",
      "95209             Footprints In The Hamlet                  ['Masterpiece']\n",
      "44437                        Maasina Tooro                   ['Afrissippi']\n",
      "89654               Deathstriker6666 Theme                ['Geoff Lapaire']\n",
      "81690     Komponent - Telefon Tel Aviv RMX  ['Apparat', 'Telefon Tel Aviv']\n",
      "83078  Face #2 [Decider mix] by Chris Gill                   ['Slave Unit']\n"
     ]
    }
   ],
   "source": [
    "# 5 most similar songs\n",
    "for index in song_indexes:\n",
    "  print(df.iloc[index][['name', 'artists']])"
   ]
  },
  {
   "cell_type": "code",
   "execution_count": 15,
   "metadata": {
    "id": "im8-bHmxy43T"
   },
   "outputs": [
    {
     "data": {
      "text/plain": [
       "['test.sav']"
      ]
     },
     "execution_count": 15,
     "metadata": {},
     "output_type": "execute_result"
    }
   ],
   "source": [
    "# Save model to disk\n",
    "filename = 'test.sav'\n",
    "# Dump model using JobLib\n",
    "dump(neigh, 'test.sav')"
   ]
  },
  {
   "cell_type": "code",
   "execution_count": null,
   "metadata": {},
   "outputs": [],
   "source": []
  }
 ],
 "metadata": {
  "colab": {
   "name": "Spotify_Recommender.ipynb",
   "provenance": []
  },
  "interpreter": {
   "hash": "aee8b7b246df8f9039afb4144a1f6fd8d2ca17a180786b69acc140d282b71a49"
  },
  "kernelspec": {
   "display_name": "Python 3.10.4 64-bit",
   "language": "python",
   "name": "python3"
  },
  "language_info": {
   "codemirror_mode": {
    "name": "ipython",
    "version": 3
   },
   "file_extension": ".py",
   "mimetype": "text/x-python",
   "name": "python",
   "nbconvert_exporter": "python",
   "pygments_lexer": "ipython3",
   "version": "3.10.4"
  }
 },
 "nbformat": 4,
 "nbformat_minor": 4
}
